{
 "cells": [
  {
   "cell_type": "code",
   "execution_count": 1,
   "id": "f2171daf",
   "metadata": {},
   "outputs": [],
   "source": [
    "import numpy as np\n",
    "import matplotlib.pyplot as plt\n",
    "from glob import glob\n",
    "import multiprocessing"
   ]
  },
  {
   "cell_type": "code",
   "execution_count": 2,
   "id": "13c77253",
   "metadata": {},
   "outputs": [],
   "source": [
    "files = glob(\"./source/Input/*\")\n",
    "files.sort(key = lambda x: int(x.split('.')[1][14:]))"
   ]
  },
  {
   "cell_type": "code",
   "execution_count": 25,
   "id": "aae8bb2e",
   "metadata": {},
   "outputs": [],
   "source": [
    "def scale(im, nR, nC):\n",
    "    nR0 = len(im)     # source number of rows \n",
    "    nC0 = len(im[0])  # source number of columns \n",
    "    return [[ im[int(nR0 * r / nR)][int(nC0 * c / nC)]  \n",
    "             for c in range(nC)] for r in range(nR)]\n",
    "\n",
    "def flatten(xs):\n",
    "    out = []\n",
    "    for x in xs:\n",
    "        if isinstance(x, list):\n",
    "            out.extend(flatten(x))\n",
    "        else:\n",
    "            out.append(x)\n",
    "    return out\n",
    "\n",
    "def map_pixel(pixel):\n",
    "    palette = \"@$B%8&WM#*oahkbdpqwmZO0QLCJUYXzcvunxrjft/\\\\|()1{}[]?-_+<>i!lI;:,\\\"^`'. \"[::-1]\n",
    "    step = 256 / len(palette)\n",
    "    idx  = int(pixel // step)\n",
    "    return palette[idx]\n",
    "\n",
    "def convert(path):\n",
    "    raw = plt.imread(path)\n",
    "    raw = raw.mean(-1)\n",
    "    sml = scale(raw, 40, 40)\n",
    "    lst = flatten(sml)\n",
    "    asc = [map_pixel(pix) for pix in lst]\n",
    "    new = [ord(char) for char in asc]\n",
    "    return new\n",
    "\n",
    "pool = multiprocessing.Pool(processes=24)\n",
    "results = pool.map(convert, files[::3])\n",
    "pool.close()\n",
    "pool.join()"
   ]
  },
  {
   "cell_type": "code",
   "execution_count": 26,
   "id": "8cd57729",
   "metadata": {},
   "outputs": [],
   "source": [
    "with open(\"./output.raw\", \"wb\") as dist:\n",
    "    dist.write(bytearray(flatten(results[:])))"
   ]
  },
  {
   "cell_type": "code",
   "execution_count": 166,
   "id": "a006bfb8",
   "metadata": {},
   "outputs": [
    {
     "data": {
      "text/plain": [
       "bytearray(b'                                                                                                                                                                                                                                                                                                                                                                                                                                                                                                                                                                                                                                                                                                                                                                                                                                                                                                                                                                                                                                                                                                                                                                                                                                                                                                                                                                                                                                                                                                                                                                                                                                                                                                                                                                                                                                                                                                                                                                                                                                                                                                                                                                                                                                                                                                                                                                                                                                                                                                                                                                                                                                                                                                                                                                                                                                                                                                                                                                                                                                                                                                                                                                                                                                                                                                                                                                                                                                                                                                                                                                                                                                                                                                                                                                                                                                                                                                                                                                                                                                                                                                                                                                                                                                                                                                                                                                                                                                                                                                                                                                                                                                                                                                                                                                                                                                                                                                                                                                                                                                                                                                                                                                                                                                                                                                                                                                                                                                                                                                                                                                                                                                                                                                                                                                                                                                                                                                                                                                                                                                                                                                                                                                                                                                                                                                                                                                                                                                                                                                                                                                                                                                                                                                                                                                                                                                                                                                                                                                                                                                                                                                                                                                                                                                                                                                                                                                                                                                                                                                                                                                                                                                                                                                                                                                                                                                                                                                                                                                                                                                                                                                                                                                                                                                                                                                                                                                                                                                                                                                                                                                                                                                                                                                                                                                                                                                                                                                                                                                                                                                                                                                                                                                                                                                                                                                                                                                                                                                                                                                                                                                                                                                                                                                                                                                                                                                                                                                                                                                                                                                                                                                                                                                                                                                                                                                                                                                                                                                                                                                                                                                                                                                                                                                                                                                                                                                                                                                                                                                                                                                                                                                                                                                                                                                                                                                                                                                                                                                                                                                                   \"                                  \"                                  \\'                                  \\'                                  .                                                                                                                                           .                                  \"                                  ;                                  +                                  ]                                  /                                  u                                  h                                  $                                  $                                  $                                 _$                                 C$                                 X$                                 u$                                .n$                                <t$                                  $                                                                                                                                                                                                                                                                                                                           ')"
      ]
     },
     "execution_count": 166,
     "metadata": {},
     "output_type": "execute_result"
    }
   ],
   "source": [
    "bytearray(flatten(results[35:45]))"
   ]
  },
  {
   "cell_type": "code",
   "execution_count": 24,
   "id": "6fff1de4",
   "metadata": {},
   "outputs": [
    {
     "data": {
      "text/plain": [
       "3286"
      ]
     },
     "execution_count": 24,
     "metadata": {},
     "output_type": "execute_result"
    }
   ],
   "source": [
    "len(files[::2])"
   ]
  },
  {
   "cell_type": "code",
   "execution_count": null,
   "id": "98a72b1e",
   "metadata": {},
   "outputs": [],
   "source": []
  }
 ],
 "metadata": {
  "kernelspec": {
   "display_name": "Python 3",
   "language": "python",
   "name": "python3"
  },
  "language_info": {
   "codemirror_mode": {
    "name": "ipython",
    "version": 3
   },
   "file_extension": ".py",
   "mimetype": "text/x-python",
   "name": "python",
   "nbconvert_exporter": "python",
   "pygments_lexer": "ipython3",
   "version": "3.9.5"
  }
 },
 "nbformat": 4,
 "nbformat_minor": 5
}
